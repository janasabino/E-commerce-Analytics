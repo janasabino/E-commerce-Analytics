{
 "cells": [
  {
   "cell_type": "markdown",
   "metadata": {},
   "source": [
    "<h2>Contexte du projet</h2>\n",
    "À partir d’un exemple de données collectées par cette entreprise (https://www.kaggle.com/jmmvutu/summer-products-and-sales-in-ecommerce-wish) , votre mission en tant que jeune freelance est dans un premier temps de comprendre ce jeu de données : comment est-il organisé ? Y-a-t-il des données manquantes ? Est-il exploitable pour analyse en l’état ?\n",
    "Cela dans le but de mettre en place une base de données adaptée ainsi que la procédure d’import de ces données en base.\n",
    "La deuxième phase de travail sera orientée vers l'analyse de ce jeu de données\n",
    "\n",
    "Votre mission est la suivante :\n",
    "<p>* collecter le jeu de données</p>\n",
    "<p>* faire une première analyse des données: nombre de colonnes, valeurs manquantes, cohérence des unités avec les valeurs..</p>\n",
    "<p>* concevoir la base de données</p>\n",
    "<p>* programmer l’import des données</p>\n",
    "<p>* faire une analyse exploratoire des données, faire une analyse de corrélation des variables.</p>\n",
    "<p>* proposer un programme d’intelligence artificielle adapté aux données disponibles (clustering de produit, prédictions, analyse de commentaires..)</p>\n",
    "<p>* rédiger une documentation synthétique sur l’usage de la base de données (connexion, récupération des données, etc.) ainsi que votre programme IA.</p>"
   ]
  },
  {
   "cell_type": "markdown",
   "metadata": {},
   "source": [
    "<h3>1. Libraries</h3>"
   ]
  },
  {
   "cell_type": "code",
   "execution_count": 192,
   "metadata": {},
   "outputs": [],
   "source": [
    "\n",
    "\n",
    "import pandas as pd\n",
    "import numpy as np\n",
    "\n",
    "import matplotlib.pyplot as plt\n",
    "import seaborn as sns\n",
    "\n",
    "import datetime\n",
    "import math\n"
   ]
  },
  {
   "cell_type": "markdown",
   "metadata": {},
   "source": [
    "<h3>2. Load data </h3>"
   ]
  },
  {
   "cell_type": "code",
   "execution_count": 193,
   "metadata": {},
   "outputs": [
    {
     "data": {
      "text/html": [
       "<div>\n",
       "<style scoped>\n",
       "    .dataframe tbody tr th:only-of-type {\n",
       "        vertical-align: middle;\n",
       "    }\n",
       "\n",
       "    .dataframe tbody tr th {\n",
       "        vertical-align: top;\n",
       "    }\n",
       "\n",
       "    .dataframe thead th {\n",
       "        text-align: right;\n",
       "    }\n",
       "</style>\n",
       "<table border=\"1\" class=\"dataframe\">\n",
       "  <thead>\n",
       "    <tr style=\"text-align: right;\">\n",
       "      <th></th>\n",
       "      <th>title</th>\n",
       "      <th>title_orig</th>\n",
       "      <th>price</th>\n",
       "      <th>retail_price</th>\n",
       "      <th>currency_buyer</th>\n",
       "      <th>units_sold</th>\n",
       "      <th>uses_ad_boosts</th>\n",
       "      <th>rating</th>\n",
       "      <th>rating_count</th>\n",
       "      <th>rating_five_count</th>\n",
       "      <th>...</th>\n",
       "      <th>merchant_rating_count</th>\n",
       "      <th>merchant_rating</th>\n",
       "      <th>merchant_id</th>\n",
       "      <th>merchant_has_profile_picture</th>\n",
       "      <th>merchant_profile_picture</th>\n",
       "      <th>product_url</th>\n",
       "      <th>product_picture</th>\n",
       "      <th>product_id</th>\n",
       "      <th>theme</th>\n",
       "      <th>crawl_month</th>\n",
       "    </tr>\n",
       "  </thead>\n",
       "  <tbody>\n",
       "    <tr>\n",
       "      <th>0</th>\n",
       "      <td>2020 Summer Vintage Flamingo Print  Pajamas Se...</td>\n",
       "      <td>2020 Summer Vintage Flamingo Print  Pajamas Se...</td>\n",
       "      <td>16.00</td>\n",
       "      <td>14</td>\n",
       "      <td>EUR</td>\n",
       "      <td>100</td>\n",
       "      <td>0</td>\n",
       "      <td>3.76</td>\n",
       "      <td>54</td>\n",
       "      <td>26.0</td>\n",
       "      <td>...</td>\n",
       "      <td>568</td>\n",
       "      <td>4.128521</td>\n",
       "      <td>595097d6a26f6e070cb878d1</td>\n",
       "      <td>0</td>\n",
       "      <td>NaN</td>\n",
       "      <td>https://www.wish.com/c/5e9ae51d43d6a96e303acdb0</td>\n",
       "      <td>https://contestimg.wish.com/api/webimage/5e9ae...</td>\n",
       "      <td>5e9ae51d43d6a96e303acdb0</td>\n",
       "      <td>summer</td>\n",
       "      <td>2020-08</td>\n",
       "    </tr>\n",
       "    <tr>\n",
       "      <th>1</th>\n",
       "      <td>SSHOUSE Summer Casual Sleeveless Soirée Party ...</td>\n",
       "      <td>Women's Casual Summer Sleeveless Sexy Mini Dress</td>\n",
       "      <td>8.00</td>\n",
       "      <td>22</td>\n",
       "      <td>EUR</td>\n",
       "      <td>20000</td>\n",
       "      <td>1</td>\n",
       "      <td>3.45</td>\n",
       "      <td>6135</td>\n",
       "      <td>2269.0</td>\n",
       "      <td>...</td>\n",
       "      <td>17752</td>\n",
       "      <td>3.899673</td>\n",
       "      <td>56458aa03a698c35c9050988</td>\n",
       "      <td>0</td>\n",
       "      <td>NaN</td>\n",
       "      <td>https://www.wish.com/c/58940d436a0d3d5da4e95a38</td>\n",
       "      <td>https://contestimg.wish.com/api/webimage/58940...</td>\n",
       "      <td>58940d436a0d3d5da4e95a38</td>\n",
       "      <td>summer</td>\n",
       "      <td>2020-08</td>\n",
       "    </tr>\n",
       "    <tr>\n",
       "      <th>2</th>\n",
       "      <td>2020 Nouvelle Arrivée Femmes Printemps et Été ...</td>\n",
       "      <td>2020 New Arrival Women Spring and Summer Beach...</td>\n",
       "      <td>8.00</td>\n",
       "      <td>43</td>\n",
       "      <td>EUR</td>\n",
       "      <td>100</td>\n",
       "      <td>0</td>\n",
       "      <td>3.57</td>\n",
       "      <td>14</td>\n",
       "      <td>5.0</td>\n",
       "      <td>...</td>\n",
       "      <td>295</td>\n",
       "      <td>3.989831</td>\n",
       "      <td>5d464a1ffdf7bc44ee933c65</td>\n",
       "      <td>0</td>\n",
       "      <td>NaN</td>\n",
       "      <td>https://www.wish.com/c/5ea10e2c617580260d55310a</td>\n",
       "      <td>https://contestimg.wish.com/api/webimage/5ea10...</td>\n",
       "      <td>5ea10e2c617580260d55310a</td>\n",
       "      <td>summer</td>\n",
       "      <td>2020-08</td>\n",
       "    </tr>\n",
       "    <tr>\n",
       "      <th>3</th>\n",
       "      <td>Hot Summer Cool T-shirt pour les femmes Mode T...</td>\n",
       "      <td>Hot Summer Cool T Shirt for Women Fashion Tops...</td>\n",
       "      <td>8.00</td>\n",
       "      <td>8</td>\n",
       "      <td>EUR</td>\n",
       "      <td>5000</td>\n",
       "      <td>1</td>\n",
       "      <td>4.03</td>\n",
       "      <td>579</td>\n",
       "      <td>295.0</td>\n",
       "      <td>...</td>\n",
       "      <td>23832</td>\n",
       "      <td>4.020435</td>\n",
       "      <td>58cfdefdacb37b556efdff7c</td>\n",
       "      <td>0</td>\n",
       "      <td>NaN</td>\n",
       "      <td>https://www.wish.com/c/5cedf17ad1d44c52c59e4aca</td>\n",
       "      <td>https://contestimg.wish.com/api/webimage/5cedf...</td>\n",
       "      <td>5cedf17ad1d44c52c59e4aca</td>\n",
       "      <td>summer</td>\n",
       "      <td>2020-08</td>\n",
       "    </tr>\n",
       "    <tr>\n",
       "      <th>4</th>\n",
       "      <td>Femmes Shorts d'été à lacets taille élastique ...</td>\n",
       "      <td>Women Summer Shorts Lace Up Elastic Waistband ...</td>\n",
       "      <td>2.72</td>\n",
       "      <td>3</td>\n",
       "      <td>EUR</td>\n",
       "      <td>100</td>\n",
       "      <td>1</td>\n",
       "      <td>3.10</td>\n",
       "      <td>20</td>\n",
       "      <td>6.0</td>\n",
       "      <td>...</td>\n",
       "      <td>14482</td>\n",
       "      <td>4.001588</td>\n",
       "      <td>5ab3b592c3911a095ad5dadb</td>\n",
       "      <td>0</td>\n",
       "      <td>NaN</td>\n",
       "      <td>https://www.wish.com/c/5ebf5819ebac372b070b0e70</td>\n",
       "      <td>https://contestimg.wish.com/api/webimage/5ebf5...</td>\n",
       "      <td>5ebf5819ebac372b070b0e70</td>\n",
       "      <td>summer</td>\n",
       "      <td>2020-08</td>\n",
       "    </tr>\n",
       "  </tbody>\n",
       "</table>\n",
       "<p>5 rows × 43 columns</p>\n",
       "</div>"
      ],
      "text/plain": [
       "                                               title  \\\n",
       "0  2020 Summer Vintage Flamingo Print  Pajamas Se...   \n",
       "1  SSHOUSE Summer Casual Sleeveless Soirée Party ...   \n",
       "2  2020 Nouvelle Arrivée Femmes Printemps et Été ...   \n",
       "3  Hot Summer Cool T-shirt pour les femmes Mode T...   \n",
       "4  Femmes Shorts d'été à lacets taille élastique ...   \n",
       "\n",
       "                                          title_orig  price  retail_price  \\\n",
       "0  2020 Summer Vintage Flamingo Print  Pajamas Se...  16.00            14   \n",
       "1   Women's Casual Summer Sleeveless Sexy Mini Dress   8.00            22   \n",
       "2  2020 New Arrival Women Spring and Summer Beach...   8.00            43   \n",
       "3  Hot Summer Cool T Shirt for Women Fashion Tops...   8.00             8   \n",
       "4  Women Summer Shorts Lace Up Elastic Waistband ...   2.72             3   \n",
       "\n",
       "  currency_buyer  units_sold  uses_ad_boosts  rating  rating_count  \\\n",
       "0            EUR         100               0    3.76            54   \n",
       "1            EUR       20000               1    3.45          6135   \n",
       "2            EUR         100               0    3.57            14   \n",
       "3            EUR        5000               1    4.03           579   \n",
       "4            EUR         100               1    3.10            20   \n",
       "\n",
       "   rating_five_count  ...  merchant_rating_count  merchant_rating  \\\n",
       "0               26.0  ...                    568         4.128521   \n",
       "1             2269.0  ...                  17752         3.899673   \n",
       "2                5.0  ...                    295         3.989831   \n",
       "3              295.0  ...                  23832         4.020435   \n",
       "4                6.0  ...                  14482         4.001588   \n",
       "\n",
       "                merchant_id  merchant_has_profile_picture  \\\n",
       "0  595097d6a26f6e070cb878d1                             0   \n",
       "1  56458aa03a698c35c9050988                             0   \n",
       "2  5d464a1ffdf7bc44ee933c65                             0   \n",
       "3  58cfdefdacb37b556efdff7c                             0   \n",
       "4  5ab3b592c3911a095ad5dadb                             0   \n",
       "\n",
       "   merchant_profile_picture                                      product_url  \\\n",
       "0                       NaN  https://www.wish.com/c/5e9ae51d43d6a96e303acdb0   \n",
       "1                       NaN  https://www.wish.com/c/58940d436a0d3d5da4e95a38   \n",
       "2                       NaN  https://www.wish.com/c/5ea10e2c617580260d55310a   \n",
       "3                       NaN  https://www.wish.com/c/5cedf17ad1d44c52c59e4aca   \n",
       "4                       NaN  https://www.wish.com/c/5ebf5819ebac372b070b0e70   \n",
       "\n",
       "                                     product_picture  \\\n",
       "0  https://contestimg.wish.com/api/webimage/5e9ae...   \n",
       "1  https://contestimg.wish.com/api/webimage/58940...   \n",
       "2  https://contestimg.wish.com/api/webimage/5ea10...   \n",
       "3  https://contestimg.wish.com/api/webimage/5cedf...   \n",
       "4  https://contestimg.wish.com/api/webimage/5ebf5...   \n",
       "\n",
       "                 product_id   theme crawl_month  \n",
       "0  5e9ae51d43d6a96e303acdb0  summer     2020-08  \n",
       "1  58940d436a0d3d5da4e95a38  summer     2020-08  \n",
       "2  5ea10e2c617580260d55310a  summer     2020-08  \n",
       "3  5cedf17ad1d44c52c59e4aca  summer     2020-08  \n",
       "4  5ebf5819ebac372b070b0e70  summer     2020-08  \n",
       "\n",
       "[5 rows x 43 columns]"
      ]
     },
     "execution_count": 193,
     "metadata": {},
     "output_type": "execute_result"
    }
   ],
   "source": [
    "df = pd.read_csv(r'summer-products-with-rating-and-performance_2020-08.csv')\n",
    "df.head()"
   ]
  },
  {
   "cell_type": "code",
   "execution_count": 194,
   "metadata": {},
   "outputs": [
    {
     "data": {
      "text/plain": [
       "(1573, 43)"
      ]
     },
     "execution_count": 194,
     "metadata": {},
     "output_type": "execute_result"
    }
   ],
   "source": [
    "df.shape"
   ]
  },
  {
   "cell_type": "code",
   "execution_count": 195,
   "metadata": {},
   "outputs": [
    {
     "name": "stdout",
     "output_type": "stream",
     "text": [
      "<class 'pandas.core.frame.DataFrame'>\n",
      "RangeIndex: 1573 entries, 0 to 1572\n",
      "Data columns (total 43 columns):\n",
      " #   Column                        Non-Null Count  Dtype  \n",
      "---  ------                        --------------  -----  \n",
      " 0   title                         1573 non-null   object \n",
      " 1   title_orig                    1573 non-null   object \n",
      " 2   price                         1573 non-null   float64\n",
      " 3   retail_price                  1573 non-null   int64  \n",
      " 4   currency_buyer                1573 non-null   object \n",
      " 5   units_sold                    1573 non-null   int64  \n",
      " 6   uses_ad_boosts                1573 non-null   int64  \n",
      " 7   rating                        1573 non-null   float64\n",
      " 8   rating_count                  1573 non-null   int64  \n",
      " 9   rating_five_count             1528 non-null   float64\n",
      " 10  rating_four_count             1528 non-null   float64\n",
      " 11  rating_three_count            1528 non-null   float64\n",
      " 12  rating_two_count              1528 non-null   float64\n",
      " 13  rating_one_count              1528 non-null   float64\n",
      " 14  badges_count                  1573 non-null   int64  \n",
      " 15  badge_local_product           1573 non-null   int64  \n",
      " 16  badge_product_quality         1573 non-null   int64  \n",
      " 17  badge_fast_shipping           1573 non-null   int64  \n",
      " 18  tags                          1573 non-null   object \n",
      " 19  product_color                 1532 non-null   object \n",
      " 20  product_variation_size_id     1559 non-null   object \n",
      " 21  product_variation_inventory   1573 non-null   int64  \n",
      " 22  shipping_option_name          1573 non-null   object \n",
      " 23  shipping_option_price         1573 non-null   int64  \n",
      " 24  shipping_is_express           1573 non-null   int64  \n",
      " 25  countries_shipped_to          1573 non-null   int64  \n",
      " 26  inventory_total               1573 non-null   int64  \n",
      " 27  has_urgency_banner            473 non-null    float64\n",
      " 28  urgency_text                  473 non-null    object \n",
      " 29  origin_country                1556 non-null   object \n",
      " 30  merchant_title                1573 non-null   object \n",
      " 31  merchant_name                 1569 non-null   object \n",
      " 32  merchant_info_subtitle        1572 non-null   object \n",
      " 33  merchant_rating_count         1573 non-null   int64  \n",
      " 34  merchant_rating               1573 non-null   float64\n",
      " 35  merchant_id                   1573 non-null   object \n",
      " 36  merchant_has_profile_picture  1573 non-null   int64  \n",
      " 37  merchant_profile_picture      226 non-null    object \n",
      " 38  product_url                   1573 non-null   object \n",
      " 39  product_picture               1573 non-null   object \n",
      " 40  product_id                    1573 non-null   object \n",
      " 41  theme                         1573 non-null   object \n",
      " 42  crawl_month                   1573 non-null   object \n",
      "dtypes: float64(9), int64(15), object(19)\n",
      "memory usage: 528.6+ KB\n"
     ]
    }
   ],
   "source": [
    "df.info()"
   ]
  },
  {
   "cell_type": "code",
   "execution_count": 196,
   "metadata": {},
   "outputs": [
    {
     "data": {
      "text/plain": [
       "Index(['title', 'title_orig', 'price', 'retail_price', 'currency_buyer',\n",
       "       'units_sold', 'uses_ad_boosts', 'rating', 'rating_count',\n",
       "       'rating_five_count', 'rating_four_count', 'rating_three_count',\n",
       "       'rating_two_count', 'rating_one_count', 'badges_count',\n",
       "       'badge_local_product', 'badge_product_quality', 'badge_fast_shipping',\n",
       "       'tags', 'product_color', 'product_variation_size_id',\n",
       "       'product_variation_inventory', 'shipping_option_name',\n",
       "       'shipping_option_price', 'shipping_is_express', 'countries_shipped_to',\n",
       "       'inventory_total', 'has_urgency_banner', 'urgency_text',\n",
       "       'origin_country', 'merchant_title', 'merchant_name',\n",
       "       'merchant_info_subtitle', 'merchant_rating_count', 'merchant_rating',\n",
       "       'merchant_id', 'merchant_has_profile_picture',\n",
       "       'merchant_profile_picture', 'product_url', 'product_picture',\n",
       "       'product_id', 'theme', 'crawl_month'],\n",
       "      dtype='object')"
      ]
     },
     "execution_count": 196,
     "metadata": {},
     "output_type": "execute_result"
    }
   ],
   "source": [
    "df.columns"
   ]
  },
  {
   "cell_type": "code",
   "execution_count": 197,
   "metadata": {},
   "outputs": [
    {
     "name": "stdout",
     "output_type": "stream",
     "text": [
      "title :  1201\n",
      "title_orig :  1203\n",
      "price :  127\n",
      "retail_price :  104\n",
      "currency_buyer :  1\n",
      "units_sold :  15\n",
      "uses_ad_boosts :  2\n",
      "rating :  192\n",
      "rating_count :  761\n",
      "rating_five_count :  605\n",
      "rating_four_count :  440\n",
      "rating_three_count :  384\n",
      "rating_two_count :  262\n",
      "rating_one_count :  330\n",
      "badges_count :  4\n",
      "badge_local_product :  2\n",
      "badge_product_quality :  2\n",
      "badge_fast_shipping :  2\n",
      "tags :  1230\n",
      "product_color :  101\n",
      "product_variation_size_id :  106\n",
      "product_variation_inventory :  48\n",
      "shipping_option_name :  15\n",
      "shipping_option_price :  8\n",
      "shipping_is_express :  2\n",
      "countries_shipped_to :  94\n",
      "inventory_total :  10\n",
      "has_urgency_banner :  1\n",
      "urgency_text :  2\n",
      "origin_country :  6\n",
      "merchant_title :  958\n",
      "merchant_name :  957\n",
      "merchant_info_subtitle :  1058\n",
      "merchant_rating_count :  917\n",
      "merchant_rating :  952\n",
      "merchant_id :  958\n",
      "merchant_has_profile_picture :  2\n",
      "merchant_profile_picture :  125\n",
      "product_url :  1341\n",
      "product_picture :  1341\n",
      "product_id :  1341\n",
      "theme :  1\n",
      "crawl_month :  1\n"
     ]
    }
   ],
   "source": [
    "def unique_counts(df):\n",
    "   for i in df.columns:\n",
    "       count = df[i].nunique()\n",
    "       print(i, \": \", count)\n",
    "unique_counts(df)"
   ]
  },
  {
   "cell_type": "code",
   "execution_count": 198,
   "metadata": {},
   "outputs": [
    {
     "data": {
      "text/html": [
       "<div>\n",
       "<style scoped>\n",
       "    .dataframe tbody tr th:only-of-type {\n",
       "        vertical-align: middle;\n",
       "    }\n",
       "\n",
       "    .dataframe tbody tr th {\n",
       "        vertical-align: top;\n",
       "    }\n",
       "\n",
       "    .dataframe thead th {\n",
       "        text-align: right;\n",
       "    }\n",
       "</style>\n",
       "<table border=\"1\" class=\"dataframe\">\n",
       "  <thead>\n",
       "    <tr style=\"text-align: right;\">\n",
       "      <th></th>\n",
       "      <th>count</th>\n",
       "      <th>mean</th>\n",
       "      <th>std</th>\n",
       "      <th>min</th>\n",
       "      <th>25%</th>\n",
       "      <th>50%</th>\n",
       "      <th>75%</th>\n",
       "      <th>max</th>\n",
       "    </tr>\n",
       "  </thead>\n",
       "  <tbody>\n",
       "    <tr>\n",
       "      <th>price</th>\n",
       "      <td>1573.0</td>\n",
       "      <td>8.0</td>\n",
       "      <td>4.0</td>\n",
       "      <td>1.0</td>\n",
       "      <td>6.0</td>\n",
       "      <td>8.0</td>\n",
       "      <td>11.0</td>\n",
       "      <td>49.0</td>\n",
       "    </tr>\n",
       "    <tr>\n",
       "      <th>retail_price</th>\n",
       "      <td>1573.0</td>\n",
       "      <td>23.0</td>\n",
       "      <td>30.0</td>\n",
       "      <td>1.0</td>\n",
       "      <td>7.0</td>\n",
       "      <td>10.0</td>\n",
       "      <td>26.0</td>\n",
       "      <td>252.0</td>\n",
       "    </tr>\n",
       "    <tr>\n",
       "      <th>units_sold</th>\n",
       "      <td>1573.0</td>\n",
       "      <td>4339.0</td>\n",
       "      <td>9357.0</td>\n",
       "      <td>1.0</td>\n",
       "      <td>100.0</td>\n",
       "      <td>1000.0</td>\n",
       "      <td>5000.0</td>\n",
       "      <td>100000.0</td>\n",
       "    </tr>\n",
       "    <tr>\n",
       "      <th>uses_ad_boosts</th>\n",
       "      <td>1573.0</td>\n",
       "      <td>0.0</td>\n",
       "      <td>0.0</td>\n",
       "      <td>0.0</td>\n",
       "      <td>0.0</td>\n",
       "      <td>0.0</td>\n",
       "      <td>1.0</td>\n",
       "      <td>1.0</td>\n",
       "    </tr>\n",
       "    <tr>\n",
       "      <th>rating</th>\n",
       "      <td>1573.0</td>\n",
       "      <td>4.0</td>\n",
       "      <td>1.0</td>\n",
       "      <td>1.0</td>\n",
       "      <td>4.0</td>\n",
       "      <td>4.0</td>\n",
       "      <td>4.0</td>\n",
       "      <td>5.0</td>\n",
       "    </tr>\n",
       "    <tr>\n",
       "      <th>rating_count</th>\n",
       "      <td>1573.0</td>\n",
       "      <td>890.0</td>\n",
       "      <td>1984.0</td>\n",
       "      <td>0.0</td>\n",
       "      <td>24.0</td>\n",
       "      <td>150.0</td>\n",
       "      <td>855.0</td>\n",
       "      <td>20744.0</td>\n",
       "    </tr>\n",
       "    <tr>\n",
       "      <th>rating_five_count</th>\n",
       "      <td>1528.0</td>\n",
       "      <td>442.0</td>\n",
       "      <td>980.0</td>\n",
       "      <td>0.0</td>\n",
       "      <td>12.0</td>\n",
       "      <td>79.0</td>\n",
       "      <td>414.0</td>\n",
       "      <td>11548.0</td>\n",
       "    </tr>\n",
       "    <tr>\n",
       "      <th>rating_four_count</th>\n",
       "      <td>1528.0</td>\n",
       "      <td>180.0</td>\n",
       "      <td>401.0</td>\n",
       "      <td>0.0</td>\n",
       "      <td>5.0</td>\n",
       "      <td>32.0</td>\n",
       "      <td>168.0</td>\n",
       "      <td>4152.0</td>\n",
       "    </tr>\n",
       "    <tr>\n",
       "      <th>rating_three_count</th>\n",
       "      <td>1528.0</td>\n",
       "      <td>135.0</td>\n",
       "      <td>312.0</td>\n",
       "      <td>0.0</td>\n",
       "      <td>4.0</td>\n",
       "      <td>24.0</td>\n",
       "      <td>129.0</td>\n",
       "      <td>3658.0</td>\n",
       "    </tr>\n",
       "    <tr>\n",
       "      <th>rating_two_count</th>\n",
       "      <td>1528.0</td>\n",
       "      <td>64.0</td>\n",
       "      <td>151.0</td>\n",
       "      <td>0.0</td>\n",
       "      <td>2.0</td>\n",
       "      <td>11.0</td>\n",
       "      <td>62.0</td>\n",
       "      <td>2003.0</td>\n",
       "    </tr>\n",
       "    <tr>\n",
       "      <th>rating_one_count</th>\n",
       "      <td>1528.0</td>\n",
       "      <td>96.0</td>\n",
       "      <td>214.0</td>\n",
       "      <td>0.0</td>\n",
       "      <td>4.0</td>\n",
       "      <td>20.0</td>\n",
       "      <td>94.0</td>\n",
       "      <td>2789.0</td>\n",
       "    </tr>\n",
       "    <tr>\n",
       "      <th>badges_count</th>\n",
       "      <td>1573.0</td>\n",
       "      <td>0.0</td>\n",
       "      <td>0.0</td>\n",
       "      <td>0.0</td>\n",
       "      <td>0.0</td>\n",
       "      <td>0.0</td>\n",
       "      <td>0.0</td>\n",
       "      <td>3.0</td>\n",
       "    </tr>\n",
       "    <tr>\n",
       "      <th>badge_local_product</th>\n",
       "      <td>1573.0</td>\n",
       "      <td>0.0</td>\n",
       "      <td>0.0</td>\n",
       "      <td>0.0</td>\n",
       "      <td>0.0</td>\n",
       "      <td>0.0</td>\n",
       "      <td>0.0</td>\n",
       "      <td>1.0</td>\n",
       "    </tr>\n",
       "    <tr>\n",
       "      <th>badge_product_quality</th>\n",
       "      <td>1573.0</td>\n",
       "      <td>0.0</td>\n",
       "      <td>0.0</td>\n",
       "      <td>0.0</td>\n",
       "      <td>0.0</td>\n",
       "      <td>0.0</td>\n",
       "      <td>0.0</td>\n",
       "      <td>1.0</td>\n",
       "    </tr>\n",
       "    <tr>\n",
       "      <th>badge_fast_shipping</th>\n",
       "      <td>1573.0</td>\n",
       "      <td>0.0</td>\n",
       "      <td>0.0</td>\n",
       "      <td>0.0</td>\n",
       "      <td>0.0</td>\n",
       "      <td>0.0</td>\n",
       "      <td>0.0</td>\n",
       "      <td>1.0</td>\n",
       "    </tr>\n",
       "    <tr>\n",
       "      <th>product_variation_inventory</th>\n",
       "      <td>1573.0</td>\n",
       "      <td>33.0</td>\n",
       "      <td>21.0</td>\n",
       "      <td>1.0</td>\n",
       "      <td>6.0</td>\n",
       "      <td>50.0</td>\n",
       "      <td>50.0</td>\n",
       "      <td>50.0</td>\n",
       "    </tr>\n",
       "    <tr>\n",
       "      <th>shipping_option_price</th>\n",
       "      <td>1573.0</td>\n",
       "      <td>2.0</td>\n",
       "      <td>1.0</td>\n",
       "      <td>1.0</td>\n",
       "      <td>2.0</td>\n",
       "      <td>2.0</td>\n",
       "      <td>3.0</td>\n",
       "      <td>12.0</td>\n",
       "    </tr>\n",
       "    <tr>\n",
       "      <th>shipping_is_express</th>\n",
       "      <td>1573.0</td>\n",
       "      <td>0.0</td>\n",
       "      <td>0.0</td>\n",
       "      <td>0.0</td>\n",
       "      <td>0.0</td>\n",
       "      <td>0.0</td>\n",
       "      <td>0.0</td>\n",
       "      <td>1.0</td>\n",
       "    </tr>\n",
       "    <tr>\n",
       "      <th>countries_shipped_to</th>\n",
       "      <td>1573.0</td>\n",
       "      <td>40.0</td>\n",
       "      <td>20.0</td>\n",
       "      <td>6.0</td>\n",
       "      <td>31.0</td>\n",
       "      <td>40.0</td>\n",
       "      <td>43.0</td>\n",
       "      <td>140.0</td>\n",
       "    </tr>\n",
       "    <tr>\n",
       "      <th>inventory_total</th>\n",
       "      <td>1573.0</td>\n",
       "      <td>50.0</td>\n",
       "      <td>3.0</td>\n",
       "      <td>1.0</td>\n",
       "      <td>50.0</td>\n",
       "      <td>50.0</td>\n",
       "      <td>50.0</td>\n",
       "      <td>50.0</td>\n",
       "    </tr>\n",
       "    <tr>\n",
       "      <th>has_urgency_banner</th>\n",
       "      <td>473.0</td>\n",
       "      <td>1.0</td>\n",
       "      <td>0.0</td>\n",
       "      <td>1.0</td>\n",
       "      <td>1.0</td>\n",
       "      <td>1.0</td>\n",
       "      <td>1.0</td>\n",
       "      <td>1.0</td>\n",
       "    </tr>\n",
       "    <tr>\n",
       "      <th>merchant_rating_count</th>\n",
       "      <td>1573.0</td>\n",
       "      <td>26496.0</td>\n",
       "      <td>78474.0</td>\n",
       "      <td>0.0</td>\n",
       "      <td>1987.0</td>\n",
       "      <td>7936.0</td>\n",
       "      <td>24564.0</td>\n",
       "      <td>2174765.0</td>\n",
       "    </tr>\n",
       "    <tr>\n",
       "      <th>merchant_rating</th>\n",
       "      <td>1573.0</td>\n",
       "      <td>4.0</td>\n",
       "      <td>0.0</td>\n",
       "      <td>2.0</td>\n",
       "      <td>4.0</td>\n",
       "      <td>4.0</td>\n",
       "      <td>4.0</td>\n",
       "      <td>5.0</td>\n",
       "    </tr>\n",
       "    <tr>\n",
       "      <th>merchant_has_profile_picture</th>\n",
       "      <td>1573.0</td>\n",
       "      <td>0.0</td>\n",
       "      <td>0.0</td>\n",
       "      <td>0.0</td>\n",
       "      <td>0.0</td>\n",
       "      <td>0.0</td>\n",
       "      <td>0.0</td>\n",
       "      <td>1.0</td>\n",
       "    </tr>\n",
       "  </tbody>\n",
       "</table>\n",
       "</div>"
      ],
      "text/plain": [
       "                               count     mean      std  min     25%     50%  \\\n",
       "price                         1573.0      8.0      4.0  1.0     6.0     8.0   \n",
       "retail_price                  1573.0     23.0     30.0  1.0     7.0    10.0   \n",
       "units_sold                    1573.0   4339.0   9357.0  1.0   100.0  1000.0   \n",
       "uses_ad_boosts                1573.0      0.0      0.0  0.0     0.0     0.0   \n",
       "rating                        1573.0      4.0      1.0  1.0     4.0     4.0   \n",
       "rating_count                  1573.0    890.0   1984.0  0.0    24.0   150.0   \n",
       "rating_five_count             1528.0    442.0    980.0  0.0    12.0    79.0   \n",
       "rating_four_count             1528.0    180.0    401.0  0.0     5.0    32.0   \n",
       "rating_three_count            1528.0    135.0    312.0  0.0     4.0    24.0   \n",
       "rating_two_count              1528.0     64.0    151.0  0.0     2.0    11.0   \n",
       "rating_one_count              1528.0     96.0    214.0  0.0     4.0    20.0   \n",
       "badges_count                  1573.0      0.0      0.0  0.0     0.0     0.0   \n",
       "badge_local_product           1573.0      0.0      0.0  0.0     0.0     0.0   \n",
       "badge_product_quality         1573.0      0.0      0.0  0.0     0.0     0.0   \n",
       "badge_fast_shipping           1573.0      0.0      0.0  0.0     0.0     0.0   \n",
       "product_variation_inventory   1573.0     33.0     21.0  1.0     6.0    50.0   \n",
       "shipping_option_price         1573.0      2.0      1.0  1.0     2.0     2.0   \n",
       "shipping_is_express           1573.0      0.0      0.0  0.0     0.0     0.0   \n",
       "countries_shipped_to          1573.0     40.0     20.0  6.0    31.0    40.0   \n",
       "inventory_total               1573.0     50.0      3.0  1.0    50.0    50.0   \n",
       "has_urgency_banner             473.0      1.0      0.0  1.0     1.0     1.0   \n",
       "merchant_rating_count         1573.0  26496.0  78474.0  0.0  1987.0  7936.0   \n",
       "merchant_rating               1573.0      4.0      0.0  2.0     4.0     4.0   \n",
       "merchant_has_profile_picture  1573.0      0.0      0.0  0.0     0.0     0.0   \n",
       "\n",
       "                                  75%        max  \n",
       "price                            11.0       49.0  \n",
       "retail_price                     26.0      252.0  \n",
       "units_sold                     5000.0   100000.0  \n",
       "uses_ad_boosts                    1.0        1.0  \n",
       "rating                            4.0        5.0  \n",
       "rating_count                    855.0    20744.0  \n",
       "rating_five_count               414.0    11548.0  \n",
       "rating_four_count               168.0     4152.0  \n",
       "rating_three_count              129.0     3658.0  \n",
       "rating_two_count                 62.0     2003.0  \n",
       "rating_one_count                 94.0     2789.0  \n",
       "badges_count                      0.0        3.0  \n",
       "badge_local_product               0.0        1.0  \n",
       "badge_product_quality             0.0        1.0  \n",
       "badge_fast_shipping               0.0        1.0  \n",
       "product_variation_inventory      50.0       50.0  \n",
       "shipping_option_price             3.0       12.0  \n",
       "shipping_is_express               0.0        1.0  \n",
       "countries_shipped_to             43.0      140.0  \n",
       "inventory_total                  50.0       50.0  \n",
       "has_urgency_banner                1.0        1.0  \n",
       "merchant_rating_count         24564.0  2174765.0  \n",
       "merchant_rating                   4.0        5.0  \n",
       "merchant_has_profile_picture      0.0        1.0  "
      ]
     },
     "execution_count": 198,
     "metadata": {},
     "output_type": "execute_result"
    }
   ],
   "source": [
    "round(df.describe(include=np.number).T)"
   ]
  },
  {
   "cell_type": "markdown",
   "metadata": {},
   "source": [
    " <h3>3. Data Cleaning </h3>"
   ]
  },
  {
   "cell_type": "code",
   "execution_count": 199,
   "metadata": {},
   "outputs": [
    {
     "data": {
      "text/plain": [
       "True"
      ]
     },
     "execution_count": 199,
     "metadata": {},
     "output_type": "execute_result"
    }
   ],
   "source": [
    "df.duplicated().any()"
   ]
  },
  {
   "cell_type": "code",
   "execution_count": 200,
   "metadata": {},
   "outputs": [
    {
     "data": {
      "text/plain": [
       "34"
      ]
     },
     "execution_count": 200,
     "metadata": {},
     "output_type": "execute_result"
    }
   ],
   "source": [
    "df.duplicated().sum()"
   ]
  },
  {
   "cell_type": "markdown",
   "metadata": {},
   "source": [
    "<h3>3.1 Analyse dublons </h3>"
   ]
  },
  {
   "cell_type": "code",
   "execution_count": 201,
   "metadata": {},
   "outputs": [],
   "source": [
    "from scipy import stats"
   ]
  },
  {
   "cell_type": "code",
   "execution_count": 202,
   "metadata": {},
   "outputs": [
    {
     "data": {
      "text/plain": [
       "Ttest_indResult(statistic=-2.3841411928634155, pvalue=0.01723714436449663)"
      ]
     },
     "execution_count": 202,
     "metadata": {},
     "output_type": "execute_result"
    }
   ],
   "source": [
    "stats.ttest_ind(df[df.duplicated() == True]['units_sold'], df[df.duplicated() == False]['units_sold'])"
   ]
  },
  {
   "cell_type": "code",
   "execution_count": 203,
   "metadata": {},
   "outputs": [
    {
     "data": {
      "text/plain": [
       "560.5294117647059"
      ]
     },
     "execution_count": 203,
     "metadata": {},
     "output_type": "execute_result"
    }
   ],
   "source": [
    "df[df.duplicated() == True]['units_sold'].mean()"
   ]
  },
  {
   "cell_type": "code",
   "execution_count": 204,
   "metadata": {},
   "outputs": [
    {
     "data": {
      "text/plain": [
       "4422.480181936322"
      ]
     },
     "execution_count": 204,
     "metadata": {},
     "output_type": "execute_result"
    }
   ],
   "source": [
    "df[df.duplicated() == False]['units_sold'].mean()"
   ]
  },
  {
   "cell_type": "markdown",
   "metadata": {},
   "source": [
    "La raison pour laquelle il y a des doublons dans les données peut être qu'ils ont d'abord été mis en évidence, puis qu'ils sont apparus une deuxième fois à la suite de la recherche. Donc, on peut penser que ces produits pourraient être \"populaires\" que les autres et se vendent plus. Cependant, les résultats du test t ont montré qu'il n'y avait pas de différence significative entre les produits non mis en évidence(populaires) et ceux mis en évidence."
   ]
  },
  {
   "cell_type": "markdown",
   "metadata": {},
   "source": [
    "On regarde la colonne price, retail_price et shipping_is_express pour expliquer les doublons\n",
    "\n",
    "Peut-être parce que que les produits mis en évidence sont nettement plus chers que les autres produits. "
   ]
  },
  {
   "cell_type": "code",
   "execution_count": 205,
   "metadata": {},
   "outputs": [
    {
     "data": {
      "text/plain": [
       "Ttest_indResult(statistic=-2.111496596004406, pvalue=0.03488720856509743)"
      ]
     },
     "execution_count": 205,
     "metadata": {},
     "output_type": "execute_result"
    }
   ],
   "source": [
    "stats.ttest_ind(df[df.duplicated() == True]['price'], df[df.duplicated() == False]['price'])"
   ]
  },
  {
   "cell_type": "code",
   "execution_count": 206,
   "metadata": {},
   "outputs": [
    {
     "data": {
      "text/plain": [
       "Ttest_indResult(statistic=-0.25015478183951656, pvalue=0.8025003601347656)"
      ]
     },
     "execution_count": 206,
     "metadata": {},
     "output_type": "execute_result"
    }
   ],
   "source": [
    "stats.ttest_ind(df[df.duplicated() == True]['retail_price'], df[df.duplicated() == False]['retail_price'])"
   ]
  },
  {
   "cell_type": "code",
   "execution_count": 207,
   "metadata": {},
   "outputs": [
    {
     "data": {
      "text/plain": [
       "Ttest_indResult(statistic=-0.2974671383146946, pvalue=0.7661492220674688)"
      ]
     },
     "execution_count": 207,
     "metadata": {},
     "output_type": "execute_result"
    }
   ],
   "source": [
    "stats.ttest_ind(df[df.duplicated() == True]['shipping_is_express'], df[df.duplicated() == False]['shipping_is_express'])"
   ]
  },
  {
   "cell_type": "markdown",
   "metadata": {},
   "source": [
    "Cependant, il n'y a pas de telles preuves pour cela. Des doublons peuvent se produire pour des raisons techniques plutôt que promotionnelles ou les consommateurs peuvent ne pas prêter attention aux produits mis en évidence."
   ]
  },
  {
   "cell_type": "code",
   "execution_count": 208,
   "metadata": {},
   "outputs": [
    {
     "data": {
      "text/plain": [
       "(1539, 43)"
      ]
     },
     "execution_count": 208,
     "metadata": {},
     "output_type": "execute_result"
    }
   ],
   "source": [
    "df = df.drop_duplicates()\n",
    "df.shape"
   ]
  },
  {
   "cell_type": "code",
   "execution_count": 209,
   "metadata": {},
   "outputs": [
    {
     "data": {
      "text/plain": [
       "title                              0\n",
       "title_orig                         0\n",
       "price                              0\n",
       "retail_price                       0\n",
       "currency_buyer                     0\n",
       "units_sold                         0\n",
       "uses_ad_boosts                     0\n",
       "rating                             0\n",
       "rating_count                       0\n",
       "rating_five_count                 43\n",
       "rating_four_count                 43\n",
       "rating_three_count                43\n",
       "rating_two_count                  43\n",
       "rating_one_count                  43\n",
       "badges_count                       0\n",
       "badge_local_product                0\n",
       "badge_product_quality              0\n",
       "badge_fast_shipping                0\n",
       "tags                               0\n",
       "product_color                     41\n",
       "product_variation_size_id         14\n",
       "product_variation_inventory        0\n",
       "shipping_option_name               0\n",
       "shipping_option_price              0\n",
       "shipping_is_express                0\n",
       "countries_shipped_to               0\n",
       "inventory_total                    0\n",
       "has_urgency_banner              1071\n",
       "urgency_text                    1071\n",
       "origin_country                    16\n",
       "merchant_title                     0\n",
       "merchant_name                      3\n",
       "merchant_info_subtitle             1\n",
       "merchant_rating_count              0\n",
       "merchant_rating                    0\n",
       "merchant_id                        0\n",
       "merchant_has_profile_picture       0\n",
       "merchant_profile_picture        1314\n",
       "product_url                        0\n",
       "product_picture                    0\n",
       "product_id                         0\n",
       "theme                              0\n",
       "crawl_month                        0\n",
       "dtype: int64"
      ]
     },
     "execution_count": 209,
     "metadata": {},
     "output_type": "execute_result"
    }
   ],
   "source": [
    "df.isnull().sum()"
   ]
  },
  {
   "cell_type": "code",
   "execution_count": 210,
   "metadata": {},
   "outputs": [
    {
     "data": {
      "text/html": [
       "<div>\n",
       "<style scoped>\n",
       "    .dataframe tbody tr th:only-of-type {\n",
       "        vertical-align: middle;\n",
       "    }\n",
       "\n",
       "    .dataframe tbody tr th {\n",
       "        vertical-align: top;\n",
       "    }\n",
       "\n",
       "    .dataframe thead th {\n",
       "        text-align: right;\n",
       "    }\n",
       "</style>\n",
       "<table border=\"1\" class=\"dataframe\">\n",
       "  <thead>\n",
       "    <tr style=\"text-align: right;\">\n",
       "      <th></th>\n",
       "      <th>Total Missing</th>\n",
       "      <th>Percent</th>\n",
       "    </tr>\n",
       "  </thead>\n",
       "  <tbody>\n",
       "    <tr>\n",
       "      <th>merchant_profile_picture</th>\n",
       "      <td>1314</td>\n",
       "      <td>85.380117</td>\n",
       "    </tr>\n",
       "    <tr>\n",
       "      <th>has_urgency_banner</th>\n",
       "      <td>1071</td>\n",
       "      <td>69.590643</td>\n",
       "    </tr>\n",
       "    <tr>\n",
       "      <th>urgency_text</th>\n",
       "      <td>1071</td>\n",
       "      <td>69.590643</td>\n",
       "    </tr>\n",
       "    <tr>\n",
       "      <th>rating_two_count</th>\n",
       "      <td>43</td>\n",
       "      <td>2.794022</td>\n",
       "    </tr>\n",
       "    <tr>\n",
       "      <th>rating_five_count</th>\n",
       "      <td>43</td>\n",
       "      <td>2.794022</td>\n",
       "    </tr>\n",
       "    <tr>\n",
       "      <th>rating_four_count</th>\n",
       "      <td>43</td>\n",
       "      <td>2.794022</td>\n",
       "    </tr>\n",
       "    <tr>\n",
       "      <th>rating_three_count</th>\n",
       "      <td>43</td>\n",
       "      <td>2.794022</td>\n",
       "    </tr>\n",
       "    <tr>\n",
       "      <th>rating_one_count</th>\n",
       "      <td>43</td>\n",
       "      <td>2.794022</td>\n",
       "    </tr>\n",
       "    <tr>\n",
       "      <th>product_color</th>\n",
       "      <td>41</td>\n",
       "      <td>2.664068</td>\n",
       "    </tr>\n",
       "    <tr>\n",
       "      <th>origin_country</th>\n",
       "      <td>16</td>\n",
       "      <td>1.039636</td>\n",
       "    </tr>\n",
       "    <tr>\n",
       "      <th>product_variation_size_id</th>\n",
       "      <td>14</td>\n",
       "      <td>0.909682</td>\n",
       "    </tr>\n",
       "    <tr>\n",
       "      <th>merchant_name</th>\n",
       "      <td>3</td>\n",
       "      <td>0.194932</td>\n",
       "    </tr>\n",
       "    <tr>\n",
       "      <th>merchant_info_subtitle</th>\n",
       "      <td>1</td>\n",
       "      <td>0.064977</td>\n",
       "    </tr>\n",
       "    <tr>\n",
       "      <th>merchant_rating_count</th>\n",
       "      <td>0</td>\n",
       "      <td>0.000000</td>\n",
       "    </tr>\n",
       "    <tr>\n",
       "      <th>merchant_title</th>\n",
       "      <td>0</td>\n",
       "      <td>0.000000</td>\n",
       "    </tr>\n",
       "    <tr>\n",
       "      <th>title</th>\n",
       "      <td>0</td>\n",
       "      <td>0.000000</td>\n",
       "    </tr>\n",
       "    <tr>\n",
       "      <th>merchant_rating</th>\n",
       "      <td>0</td>\n",
       "      <td>0.000000</td>\n",
       "    </tr>\n",
       "    <tr>\n",
       "      <th>countries_shipped_to</th>\n",
       "      <td>0</td>\n",
       "      <td>0.000000</td>\n",
       "    </tr>\n",
       "    <tr>\n",
       "      <th>merchant_id</th>\n",
       "      <td>0</td>\n",
       "      <td>0.000000</td>\n",
       "    </tr>\n",
       "    <tr>\n",
       "      <th>merchant_has_profile_picture</th>\n",
       "      <td>0</td>\n",
       "      <td>0.000000</td>\n",
       "    </tr>\n",
       "  </tbody>\n",
       "</table>\n",
       "</div>"
      ],
      "text/plain": [
       "                              Total Missing    Percent\n",
       "merchant_profile_picture               1314  85.380117\n",
       "has_urgency_banner                     1071  69.590643\n",
       "urgency_text                           1071  69.590643\n",
       "rating_two_count                         43   2.794022\n",
       "rating_five_count                        43   2.794022\n",
       "rating_four_count                        43   2.794022\n",
       "rating_three_count                       43   2.794022\n",
       "rating_one_count                         43   2.794022\n",
       "product_color                            41   2.664068\n",
       "origin_country                           16   1.039636\n",
       "product_variation_size_id                14   0.909682\n",
       "merchant_name                             3   0.194932\n",
       "merchant_info_subtitle                    1   0.064977\n",
       "merchant_rating_count                     0   0.000000\n",
       "merchant_title                            0   0.000000\n",
       "title                                     0   0.000000\n",
       "merchant_rating                           0   0.000000\n",
       "countries_shipped_to                      0   0.000000\n",
       "merchant_id                               0   0.000000\n",
       "merchant_has_profile_picture              0   0.000000"
      ]
     },
     "execution_count": 210,
     "metadata": {},
     "output_type": "execute_result"
    }
   ],
   "source": [
    "total_missing = df.isnull().sum().sort_values(ascending=False)\n",
    "percent = (df.isnull().sum()/df.isnull().count()).sort_values(ascending=False)*100\n",
    "missing_data = pd.concat([total_missing, percent], axis=1, keys=['Total Missing', 'Percent'])\n",
    "missing_data.head(20)"
   ]
  },
  {
   "cell_type": "code",
   "execution_count": 211,
   "metadata": {},
   "outputs": [
    {
     "data": {
      "text/plain": [
       "[408, 1103, 1350]"
      ]
     },
     "execution_count": 211,
     "metadata": {},
     "output_type": "execute_result"
    }
   ],
   "source": [
    "\n",
    "df[df['merchant_name'].isnull()].index.tolist()"
   ]
  },
  {
   "cell_type": "code",
   "execution_count": 212,
   "metadata": {},
   "outputs": [
    {
     "data": {
      "image/png": "[encoded data removed]",
      "text/plain": [
       "<Figure size 576x432 with 1 Axes>"
      ]
     },
     "metadata": {
      "needs_background": "light"
     },
     "output_type": "display_data"
    }
   ],
   "source": [
    "def plot_missing_data(df):\n",
    "    columns_with_null = df.columns[df.isna().sum() > 0]\n",
    "    null_pct = (df[columns_with_null].isna().sum() / df.shape[0]).sort_values(ascending=False) * 100\n",
    "    plt.figure(figsize=(8,6));\n",
    "    sns.barplot(y = null_pct.index, x = null_pct, orient='h')\n",
    "    plt.title('% Na values in dataframe by columns')\n",
    "plot_missing_data(df)"
   ]
  },
  {
   "cell_type": "code",
   "execution_count": 213,
   "metadata": {},
   "outputs": [
    {
     "data": {
      "text/plain": [
       "array(['Quantité limitée !', 'Réduction sur les achats en gros'],\n",
       "      dtype=object)"
      ]
     },
     "execution_count": 213,
     "metadata": {},
     "output_type": "execute_result"
    }
   ],
   "source": [
    "df[df['urgency_text'].isnull()== False]['urgency_text'].unique()"
   ]
  },
  {
   "cell_type": "code",
   "execution_count": 214,
   "metadata": {},
   "outputs": [
    {
     "data": {
      "text/plain": [
       "0       1.0\n",
       "1       1.0\n",
       "2       1.0\n",
       "4       1.0\n",
       "8       1.0\n",
       "       ... \n",
       "1558    1.0\n",
       "1561    1.0\n",
       "1564    1.0\n",
       "1565    1.0\n",
       "1569    1.0\n",
       "Name: has_urgency_banner, Length: 468, dtype: float64"
      ]
     },
     "execution_count": 214,
     "metadata": {},
     "output_type": "execute_result"
    }
   ],
   "source": [
    "df[(df['has_urgency_banner'].isnull()== False)]['has_urgency_banner']"
   ]
  },
  {
   "cell_type": "code",
   "execution_count": 215,
   "metadata": {},
   "outputs": [
    {
     "data": {
      "text/plain": [
       "array([1.])"
      ]
     },
     "execution_count": 215,
     "metadata": {},
     "output_type": "execute_result"
    }
   ],
   "source": [
    "df[(df['has_urgency_banner'].isnull()== False)]['has_urgency_banner'].unique()"
   ]
  },
  {
   "cell_type": "markdown",
   "metadata": {},
   "source": [
    "Nous avons vu que toutes les valeurs non nulles sont 1. Il est donc possible que les produits sans bannière d'urgence soient étiquetés comme NaN. Si tel est le cas, nous pouvons peut-être trouver une différence entre les éléments avec bannière d'urgence et les autres."
   ]
  },
  {
   "cell_type": "code",
   "execution_count": 216,
   "metadata": {},
   "outputs": [
    {
     "data": {
      "text/plain": [
       "Ttest_indResult(statistic=-1.1085893506514295, pvalue=0.2677808101454223)"
      ]
     },
     "execution_count": 216,
     "metadata": {},
     "output_type": "execute_result"
    }
   ],
   "source": [
    "stats.ttest_ind(df[df['has_urgency_banner'] == 1.0]['units_sold'], df[df['has_urgency_banner'] != 1.0]['units_sold'] )"
   ]
  },
  {
   "cell_type": "markdown",
   "metadata": {},
   "source": [
    "Comme le test t l'a indiqué, il n'y a pas de différence significative entre les produits avec bannière d'urgence et le produit sans bannière d'urgence spécifiée. Des recherches supplémentaires doivent être effectuées pour étudier l'influence de la bannière d'urgence"
   ]
  },
  {
   "cell_type": "code",
   "execution_count": 217,
   "metadata": {},
   "outputs": [
    {
     "data": {
      "text/plain": [
       "title                              0\n",
       "title_orig                         0\n",
       "price                              0\n",
       "retail_price                       0\n",
       "currency_buyer                     0\n",
       "units_sold                         0\n",
       "uses_ad_boosts                     0\n",
       "rating                             0\n",
       "rating_count                       0\n",
       "rating_five_count                 43\n",
       "rating_four_count                 43\n",
       "rating_three_count                43\n",
       "rating_two_count                  43\n",
       "rating_one_count                  43\n",
       "badges_count                       0\n",
       "badge_local_product                0\n",
       "badge_product_quality              0\n",
       "badge_fast_shipping                0\n",
       "tags                               0\n",
       "product_color                     41\n",
       "product_variation_size_id         14\n",
       "product_variation_inventory        0\n",
       "shipping_option_name               0\n",
       "shipping_option_price              0\n",
       "shipping_is_express                0\n",
       "countries_shipped_to               0\n",
       "inventory_total                    0\n",
       "has_urgency_banner              1071\n",
       "urgency_text                    1071\n",
       "origin_country                    16\n",
       "merchant_title                     0\n",
       "merchant_name                      3\n",
       "merchant_info_subtitle             1\n",
       "merchant_rating_count              0\n",
       "merchant_rating                    0\n",
       "merchant_id                        0\n",
       "merchant_has_profile_picture       0\n",
       "merchant_profile_picture        1314\n",
       "product_url                        0\n",
       "product_picture                    0\n",
       "product_id                         0\n",
       "theme                              0\n",
       "crawl_month                        0\n",
       "dtype: int64"
      ]
     },
     "execution_count": 217,
     "metadata": {},
     "output_type": "execute_result"
    }
   ],
   "source": [
    "df.isnull().sum()"
   ]
  },
  {
   "cell_type": "code",
   "execution_count": 218,
   "metadata": {},
   "outputs": [
    {
     "data": {
      "text/plain": [
       "[44, 116, 338, 404, 584, 637, 726, 856, 954, 1179, 1296, 1385, 1440, 1474]"
      ]
     },
     "execution_count": 218,
     "metadata": {},
     "output_type": "execute_result"
    }
   ],
   "source": [
    "df[df['product_variation_size_id'].isnull()].index.tolist()"
   ]
  },
  {
   "cell_type": "code",
   "execution_count": 219,
   "metadata": {},
   "outputs": [
    {
     "data": {
      "text/plain": [
       "[56,\n",
       " 180,\n",
       " 498,\n",
       " 507,\n",
       " 547,\n",
       " 632,\n",
       " 679,\n",
       " 802,\n",
       " 921,\n",
       " 943,\n",
       " 1059,\n",
       " 1147,\n",
       " 1244,\n",
       " 1256,\n",
       " 1289,\n",
       " 1296]"
      ]
     },
     "execution_count": 219,
     "metadata": {},
     "output_type": "execute_result"
    }
   ],
   "source": [
    "df[df['origin_country'].isnull()].index.tolist()"
   ]
  },
  {
   "cell_type": "code",
   "execution_count": 220,
   "metadata": {},
   "outputs": [
    {
     "data": {
      "text/plain": [
       "[408, 1103, 1350]"
      ]
     },
     "execution_count": 220,
     "metadata": {},
     "output_type": "execute_result"
    }
   ],
   "source": [
    "df[df['merchant_name'].isnull()].index.tolist()"
   ]
  },
  {
   "cell_type": "code",
   "execution_count": 221,
   "metadata": {},
   "outputs": [
    {
     "data": {
      "text/plain": [
       "[438]"
      ]
     },
     "execution_count": 221,
     "metadata": {},
     "output_type": "execute_result"
    }
   ],
   "source": [
    "df[df['merchant_info_subtitle'].isnull()].index.tolist()"
   ]
  },
  {
   "cell_type": "code",
   "execution_count": 222,
   "metadata": {},
   "outputs": [
    {
     "data": {
      "text/plain": [
       "True"
      ]
     },
     "execution_count": 222,
     "metadata": {},
     "output_type": "execute_result"
    }
   ],
   "source": [
    "df[df['rating_five_count'].isnull()].index.tolist() == df[df['rating_four_count'].isnull()].index.tolist()"
   ]
  },
  {
   "cell_type": "code",
   "execution_count": 223,
   "metadata": {},
   "outputs": [
    {
     "data": {
      "text/plain": [
       "True"
      ]
     },
     "execution_count": 223,
     "metadata": {},
     "output_type": "execute_result"
    }
   ],
   "source": [
    "df[df['rating_four_count'].isnull()].index.tolist() == df[df['rating_three_count'].isnull()].index.tolist()"
   ]
  },
  {
   "cell_type": "code",
   "execution_count": 224,
   "metadata": {},
   "outputs": [
    {
     "data": {
      "text/plain": [
       "True"
      ]
     },
     "execution_count": 224,
     "metadata": {},
     "output_type": "execute_result"
    }
   ],
   "source": [
    "df[df['rating_three_count'].isnull()].index.tolist() == df[df['rating_two_count'].isnull()].index.tolist()"
   ]
  },
  {
   "cell_type": "code",
   "execution_count": 225,
   "metadata": {},
   "outputs": [
    {
     "data": {
      "text/plain": [
       "True"
      ]
     },
     "execution_count": 225,
     "metadata": {},
     "output_type": "execute_result"
    }
   ],
   "source": [
    "df[df['rating_two_count'].isnull()].index.tolist() == df[df['rating_one_count'].isnull()].index.tolist()"
   ]
  },
  {
   "cell_type": "code",
   "execution_count": 226,
   "metadata": {},
   "outputs": [
    {
     "data": {
      "text/plain": [
       "(1539, 43)"
      ]
     },
     "execution_count": 226,
     "metadata": {},
     "output_type": "execute_result"
    }
   ],
   "source": [
    "#df.dropna(inplace=True) apres ça shape = (1427, 40)\n",
    "df.shape"
   ]
  },
  {
   "cell_type": "code",
   "execution_count": 227,
   "metadata": {},
   "outputs": [],
   "source": [
    "\n",
    "#Ajouter une colonne pour le nombre total d'annonces du même marchand\n",
    "df['num_listings'] = df['merchant_title'].apply(lambda x: df['merchant_title'].value_counts()[str(x)])\n"
   ]
  },
  {
   "cell_type": "code",
   "execution_count": 228,
   "metadata": {},
   "outputs": [],
   "source": [
    "#Changer NaN merchant_name to 'no_merchant_name'\n",
    "df['merchant_name'] = df['merchant_name'].apply(lambda x: 'no_merchant_name' if not isinstance(x, str) else x)\n"
   ]
  },
  {
   "cell_type": "code",
   "execution_count": 229,
   "metadata": {},
   "outputs": [],
   "source": [
    "# Nan merchant_info_subtitle\n",
    "df['merchant_info_subtitle'] = df['merchant_info_subtitle'].apply(lambda x: 'no_merchant_info_subtitle' if not isinstance(x, str) else x)"
   ]
  },
  {
   "cell_type": "code",
   "execution_count": 230,
   "metadata": {},
   "outputs": [],
   "source": [
    "#Remplacez NaN dans has_urgency_banner par 0\n",
    "df['has_urgency_banner'] = df['has_urgency_banner'].apply(lambda x: 1 if x == 1 else 0)\n"
   ]
  },
  {
   "cell_type": "code",
   "execution_count": 231,
   "metadata": {},
   "outputs": [],
   "source": [
    "#Créer une liste des  tags\n",
    "df['tag_list'] = df['tags'].apply(lambda x: x.split(','))"
   ]
  },
  {
   "cell_type": "code",
   "execution_count": 232,
   "metadata": {},
   "outputs": [],
   "source": [
    "#Changer NaN rating counts to 0\n",
    "df['rating_five_count'] = df['rating_five_count'].apply(lambda x: 0 if math.isnan(x) else x)\n",
    "df['rating_four_count'] = df['rating_four_count'].apply(lambda x: 0 if math.isnan(x) else x)\n",
    "df['rating_three_count'] = df['rating_four_count'].apply(lambda x: 0 if math.isnan(x) else x)\n",
    "df['rating_two_count'] = df['rating_two_count'].apply(lambda x: 0 if math.isnan(x) else x)\n",
    "df['rating_one_count'] = df['rating_one_count'].apply(lambda x: 0 if math.isnan(x) else x)\n",
    "\n"
   ]
  },
  {
   "cell_type": "code",
   "execution_count": 233,
   "metadata": {},
   "outputs": [],
   "source": [
    "#Changer NaN product colors to 'no_color'\n",
    "df['product_color'] = df['product_color'].apply(lambda x: 'no_color' if not isinstance(x, str) else x)\n",
    "\n"
   ]
  },
  {
   "cell_type": "code",
   "execution_count": 234,
   "metadata": {},
   "outputs": [],
   "source": [
    "#Changer NaN sizes to 'no_size'\n",
    "df['product_variation_size_id'] = df['product_variation_size_id'].apply(lambda x: 'no_size' if not isinstance(x, str) else x)\n",
    "\n"
   ]
  },
  {
   "cell_type": "code",
   "execution_count": 235,
   "metadata": {},
   "outputs": [],
   "source": [
    "#Changer NaN origin countries to 'no_origin_country'\n",
    "df['origin_country'] = df['origin_country'].apply(lambda x: 'no_origin_country' if not isinstance(x, str) else x)\n"
   ]
  },
  {
   "cell_type": "code",
   "execution_count": 236,
   "metadata": {},
   "outputs": [
    {
     "data": {
      "text/html": [
       "<div>\n",
       "<style scoped>\n",
       "    .dataframe tbody tr th:only-of-type {\n",
       "        vertical-align: middle;\n",
       "    }\n",
       "\n",
       "    .dataframe tbody tr th {\n",
       "        vertical-align: top;\n",
       "    }\n",
       "\n",
       "    .dataframe thead th {\n",
       "        text-align: right;\n",
       "    }\n",
       "</style>\n",
       "<table border=\"1\" class=\"dataframe\">\n",
       "  <thead>\n",
       "    <tr style=\"text-align: right;\">\n",
       "      <th></th>\n",
       "      <th>Total Missing</th>\n",
       "      <th>Percent</th>\n",
       "    </tr>\n",
       "  </thead>\n",
       "  <tbody>\n",
       "    <tr>\n",
       "      <th>merchant_profile_picture</th>\n",
       "      <td>1314</td>\n",
       "      <td>85.380117</td>\n",
       "    </tr>\n",
       "    <tr>\n",
       "      <th>urgency_text</th>\n",
       "      <td>1071</td>\n",
       "      <td>69.590643</td>\n",
       "    </tr>\n",
       "    <tr>\n",
       "      <th>title</th>\n",
       "      <td>0</td>\n",
       "      <td>0.000000</td>\n",
       "    </tr>\n",
       "    <tr>\n",
       "      <th>merchant_rating_count</th>\n",
       "      <td>0</td>\n",
       "      <td>0.000000</td>\n",
       "    </tr>\n",
       "    <tr>\n",
       "      <th>countries_shipped_to</th>\n",
       "      <td>0</td>\n",
       "      <td>0.000000</td>\n",
       "    </tr>\n",
       "    <tr>\n",
       "      <th>inventory_total</th>\n",
       "      <td>0</td>\n",
       "      <td>0.000000</td>\n",
       "    </tr>\n",
       "    <tr>\n",
       "      <th>has_urgency_banner</th>\n",
       "      <td>0</td>\n",
       "      <td>0.000000</td>\n",
       "    </tr>\n",
       "    <tr>\n",
       "      <th>origin_country</th>\n",
       "      <td>0</td>\n",
       "      <td>0.000000</td>\n",
       "    </tr>\n",
       "    <tr>\n",
       "      <th>merchant_title</th>\n",
       "      <td>0</td>\n",
       "      <td>0.000000</td>\n",
       "    </tr>\n",
       "    <tr>\n",
       "      <th>merchant_name</th>\n",
       "      <td>0</td>\n",
       "      <td>0.000000</td>\n",
       "    </tr>\n",
       "    <tr>\n",
       "      <th>merchant_info_subtitle</th>\n",
       "      <td>0</td>\n",
       "      <td>0.000000</td>\n",
       "    </tr>\n",
       "    <tr>\n",
       "      <th>merchant_rating</th>\n",
       "      <td>0</td>\n",
       "      <td>0.000000</td>\n",
       "    </tr>\n",
       "    <tr>\n",
       "      <th>shipping_option_price</th>\n",
       "      <td>0</td>\n",
       "      <td>0.000000</td>\n",
       "    </tr>\n",
       "    <tr>\n",
       "      <th>merchant_id</th>\n",
       "      <td>0</td>\n",
       "      <td>0.000000</td>\n",
       "    </tr>\n",
       "    <tr>\n",
       "      <th>merchant_has_profile_picture</th>\n",
       "      <td>0</td>\n",
       "      <td>0.000000</td>\n",
       "    </tr>\n",
       "    <tr>\n",
       "      <th>product_url</th>\n",
       "      <td>0</td>\n",
       "      <td>0.000000</td>\n",
       "    </tr>\n",
       "    <tr>\n",
       "      <th>product_picture</th>\n",
       "      <td>0</td>\n",
       "      <td>0.000000</td>\n",
       "    </tr>\n",
       "    <tr>\n",
       "      <th>product_id</th>\n",
       "      <td>0</td>\n",
       "      <td>0.000000</td>\n",
       "    </tr>\n",
       "    <tr>\n",
       "      <th>theme</th>\n",
       "      <td>0</td>\n",
       "      <td>0.000000</td>\n",
       "    </tr>\n",
       "    <tr>\n",
       "      <th>crawl_month</th>\n",
       "      <td>0</td>\n",
       "      <td>0.000000</td>\n",
       "    </tr>\n",
       "  </tbody>\n",
       "</table>\n",
       "</div>"
      ],
      "text/plain": [
       "                              Total Missing    Percent\n",
       "merchant_profile_picture               1314  85.380117\n",
       "urgency_text                           1071  69.590643\n",
       "title                                     0   0.000000\n",
       "merchant_rating_count                     0   0.000000\n",
       "countries_shipped_to                      0   0.000000\n",
       "inventory_total                           0   0.000000\n",
       "has_urgency_banner                        0   0.000000\n",
       "origin_country                            0   0.000000\n",
       "merchant_title                            0   0.000000\n",
       "merchant_name                             0   0.000000\n",
       "merchant_info_subtitle                    0   0.000000\n",
       "merchant_rating                           0   0.000000\n",
       "shipping_option_price                     0   0.000000\n",
       "merchant_id                               0   0.000000\n",
       "merchant_has_profile_picture              0   0.000000\n",
       "product_url                               0   0.000000\n",
       "product_picture                           0   0.000000\n",
       "product_id                                0   0.000000\n",
       "theme                                     0   0.000000\n",
       "crawl_month                               0   0.000000"
      ]
     },
     "execution_count": 236,
     "metadata": {},
     "output_type": "execute_result"
    }
   ],
   "source": [
    "total_missing = df.isnull().sum().sort_values(ascending=False)\n",
    "percent = (df.isnull().sum()/df.isnull().count()).sort_values(ascending=False)*100\n",
    "missing_data = pd.concat([total_missing, percent], axis=1, keys=['Total Missing', 'Percent'])\n",
    "missing_data.head(20)"
   ]
  },
  {
   "cell_type": "code",
   "execution_count": 237,
   "metadata": {},
   "outputs": [
    {
     "data": {
      "text/plain": [
       "Index(['title', 'title_orig', 'price', 'retail_price', 'currency_buyer',\n",
       "       'units_sold', 'uses_ad_boosts', 'rating', 'rating_count',\n",
       "       'rating_five_count', 'rating_four_count', 'rating_three_count',\n",
       "       'rating_two_count', 'rating_one_count', 'badges_count',\n",
       "       'badge_local_product', 'badge_product_quality', 'badge_fast_shipping',\n",
       "       'tags', 'product_color', 'product_variation_size_id',\n",
       "       'product_variation_inventory', 'shipping_option_name',\n",
       "       'shipping_option_price', 'shipping_is_express', 'countries_shipped_to',\n",
       "       'inventory_total', 'has_urgency_banner', 'urgency_text',\n",
       "       'origin_country', 'merchant_title', 'merchant_name',\n",
       "       'merchant_info_subtitle', 'merchant_rating_count', 'merchant_rating',\n",
       "       'merchant_id', 'merchant_has_profile_picture',\n",
       "       'merchant_profile_picture', 'product_url', 'product_picture',\n",
       "       'product_id', 'theme', 'crawl_month', 'num_listings', 'tag_list'],\n",
       "      dtype='object')"
      ]
     },
     "execution_count": 237,
     "metadata": {},
     "output_type": "execute_result"
    }
   ],
   "source": [
    "df.columns"
   ]
  },
  {
   "cell_type": "code",
   "execution_count": 238,
   "metadata": {},
   "outputs": [
    {
     "data": {
      "text/plain": [
       "(1539, 38)"
      ]
     },
     "execution_count": 238,
     "metadata": {},
     "output_type": "execute_result"
    }
   ],
   "source": [
    "\n",
    "#Supprimer les variables redondantes/inutiles\n",
    "del df['shipping_option_name']\n",
    "del df['title']\n",
    "del df['currency_buyer']\n",
    "del df['urgency_text']\n",
    "#del df['merchant_name']\n",
    "del df['merchant_profile_picture']\n",
    "#del df['merchant_id']\n",
    "#del df['merchant_info_subtitle']\n",
    "#del df['product_url']\n",
    "#del df['product_picture']\n",
    "#del df['product_id']\n",
    "del df['theme']\n",
    "del df['crawl_month']\n",
    "\n",
    "#Output cleaned data to new csv\n",
    "df_out = df\n",
    "df_out.shape\n",
    "\n"
   ]
  },
  {
   "cell_type": "code",
   "execution_count": 239,
   "metadata": {},
   "outputs": [],
   "source": [
    "#Output cleaned data to new csv\n",
    "df_out.to_csv('wish_data_cleaned.csv',index = False)"
   ]
  }
 ],
 "metadata": {
  "kernelspec": {
   "display_name": "Python 3.10.5 64-bit",
   "language": "python",
   "name": "python3"
  },
  "language_info": {
   "codemirror_mode": {
    "name": "ipython",
    "version": 3
   },
   "file_extension": ".py",
   "mimetype": "text/x-python",
   "name": "python",
   "nbconvert_exporter": "python",
   "pygments_lexer": "ipython3",
   "version": "3.10.5"
  },
  "orig_nbformat": 4,
  "vscode": {
   "interpreter": {
    "hash": "116b16ce4771ffbe70767d6473d2ec71e30cb9f23544c16e382302f0f8a58d51"
   }
  }
 },
 "nbformat": 4,
 "nbformat_minor": 2
}
